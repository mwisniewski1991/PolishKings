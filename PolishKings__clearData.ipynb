{
 "cells": [
  {
   "cell_type": "markdown",
   "metadata": {},
   "source": [
    "# Polish Kings - clear data"
   ]
  },
  {
   "cell_type": "markdown",
   "metadata": {},
   "source": [
    "#### Import"
   ]
  },
  {
   "cell_type": "code",
   "execution_count": 5,
   "metadata": {},
   "outputs": [],
   "source": [
    "import pandas as pd"
   ]
  },
  {
   "cell_type": "markdown",
   "metadata": {},
   "source": [
    "#### Read data"
   ]
  },
  {
   "cell_type": "code",
   "execution_count": 6,
   "metadata": {},
   "outputs": [
    {
     "data": {
      "text/html": [
       "<div>\n",
       "<style scoped>\n",
       "    .dataframe tbody tr th:only-of-type {\n",
       "        vertical-align: middle;\n",
       "    }\n",
       "\n",
       "    .dataframe tbody tr th {\n",
       "        vertical-align: top;\n",
       "    }\n",
       "\n",
       "    .dataframe thead th {\n",
       "        text-align: right;\n",
       "    }\n",
       "</style>\n",
       "<table border=\"1\" class=\"dataframe\">\n",
       "  <thead>\n",
       "    <tr style=\"text-align: right;\">\n",
       "      <th></th>\n",
       "      <th>times</th>\n",
       "      <th>king_info</th>\n",
       "    </tr>\n",
       "  </thead>\n",
       "  <tbody>\n",
       "    <tr>\n",
       "      <th>0</th>\n",
       "      <td>Początki państwa (do 1138 roku)</td>\n",
       "      <td>Mieszko I (-992)</td>\n",
       "    </tr>\n",
       "    <tr>\n",
       "      <th>1</th>\n",
       "      <td>Początki państwa (do 1138 roku)</td>\n",
       "      <td>Bolesław Chrobry (967-1025)</td>\n",
       "    </tr>\n",
       "    <tr>\n",
       "      <th>2</th>\n",
       "      <td>Początki państwa (do 1138 roku)</td>\n",
       "      <td>Mieszko II Lambert (990-1034)</td>\n",
       "    </tr>\n",
       "  </tbody>\n",
       "</table>\n",
       "</div>"
      ],
      "text/plain": [
       "                             times                      king_info\n",
       "0  Początki państwa (do 1138 roku)               Mieszko I (-992)\n",
       "1  Początki państwa (do 1138 roku)    Bolesław Chrobry (967-1025)\n",
       "2  Początki państwa (do 1138 roku)  Mieszko II Lambert (990-1034)"
      ]
     },
     "execution_count": 6,
     "metadata": {},
     "output_type": "execute_result"
    }
   ],
   "source": [
    "polishKings = pd.read_csv(\"PolishKings_rawData.csv\")\n",
    "polishKings.head(3)"
   ]
  },
  {
   "cell_type": "markdown",
   "metadata": {},
   "source": [
    "## Times clear\n",
    "Separete Name of period with years"
   ]
  },
  {
   "cell_type": "code",
   "execution_count": 23,
   "metadata": {},
   "outputs": [],
   "source": [
    "def get_name(string):\n",
    "    symbol_place = string.find(\"(\")\n",
    "    return string[0:symbol_place].strip()"
   ]
  },
  {
   "cell_type": "code",
   "execution_count": 7,
   "metadata": {},
   "outputs": [],
   "source": [
    "def get_times_second(string, rule_type):\n",
    "    if \"do\" in string:\n",
    "        if rule_type == 0:\n",
    "            return int(0)\n",
    "        elif rule_type == 1:\n",
    "            return int(1138)\n",
    "        else: return \"ERROR\"\n",
    "    else:\n",
    "        symbol_place = string.find(\"(\")\n",
    "        times_long = string[symbol_place:]\n",
    "        dash_place = times_long.find(\"-\")\n",
    "        #Calc rule from\n",
    "        rule_from = times_long[0:dash_place].replace(\"(\",\"\").strip()\n",
    "        #Calc rule to\n",
    "        rule_to = times_long[dash_place+1:].replace(\")\",\"\").strip()\n",
    "        if len(rule_to) > 4:\n",
    "                rule_to = rule_to[0:4]\n",
    "                \n",
    "        if rule_type == 0:\n",
    "            if len(rule_from) < 4:\n",
    "                rule_from = int(rule_to) - 30\n",
    "            return int(rule_from)\n",
    "        \n",
    "        elif rule_type == 1:\n",
    "            return int(rule_to)\n",
    "        \n",
    "        else: return \"ERROR\""
   ]
  },
  {
   "cell_type": "code",
   "execution_count": 12,
   "metadata": {},
   "outputs": [],
   "source": [
    "polishKings['times_name'] = polishKings['times'].apply(get_name)\n",
    "polishKings['times_from'] = polishKings['times'].apply(get_times_second, rule_type=0)\n",
    "polishKings['times_to'] = polishKings['times'].apply(get_times_second, rule_type=1)"
   ]
  },
  {
   "cell_type": "code",
   "execution_count": 13,
   "metadata": {},
   "outputs": [
    {
     "data": {
      "text/html": [
       "<div>\n",
       "<style scoped>\n",
       "    .dataframe tbody tr th:only-of-type {\n",
       "        vertical-align: middle;\n",
       "    }\n",
       "\n",
       "    .dataframe tbody tr th {\n",
       "        vertical-align: top;\n",
       "    }\n",
       "\n",
       "    .dataframe thead th {\n",
       "        text-align: right;\n",
       "    }\n",
       "</style>\n",
       "<table border=\"1\" class=\"dataframe\">\n",
       "  <thead>\n",
       "    <tr style=\"text-align: right;\">\n",
       "      <th></th>\n",
       "      <th>times</th>\n",
       "      <th>king_info</th>\n",
       "      <th>times_name</th>\n",
       "      <th>times_from</th>\n",
       "      <th>times_to</th>\n",
       "    </tr>\n",
       "  </thead>\n",
       "  <tbody>\n",
       "    <tr>\n",
       "      <th>0</th>\n",
       "      <td>Początki państwa (do 1138 roku)</td>\n",
       "      <td>Mieszko I (-992)</td>\n",
       "      <td>Początki państwa</td>\n",
       "      <td>0</td>\n",
       "      <td>1138</td>\n",
       "    </tr>\n",
       "    <tr>\n",
       "      <th>1</th>\n",
       "      <td>Początki państwa (do 1138 roku)</td>\n",
       "      <td>Bolesław Chrobry (967-1025)</td>\n",
       "      <td>Początki państwa</td>\n",
       "      <td>0</td>\n",
       "      <td>1138</td>\n",
       "    </tr>\n",
       "    <tr>\n",
       "      <th>2</th>\n",
       "      <td>Początki państwa (do 1138 roku)</td>\n",
       "      <td>Mieszko II Lambert (990-1034)</td>\n",
       "      <td>Początki państwa</td>\n",
       "      <td>0</td>\n",
       "      <td>1138</td>\n",
       "    </tr>\n",
       "  </tbody>\n",
       "</table>\n",
       "</div>"
      ],
      "text/plain": [
       "                             times                      king_info  \\\n",
       "0  Początki państwa (do 1138 roku)               Mieszko I (-992)   \n",
       "1  Początki państwa (do 1138 roku)    Bolesław Chrobry (967-1025)   \n",
       "2  Początki państwa (do 1138 roku)  Mieszko II Lambert (990-1034)   \n",
       "\n",
       "         times_name  times_from  times_to  \n",
       "0  Początki państwa           0      1138  \n",
       "1  Początki państwa           0      1138  \n",
       "2  Początki państwa           0      1138  "
      ]
     },
     "execution_count": 13,
     "metadata": {},
     "output_type": "execute_result"
    }
   ],
   "source": [
    "polishKings.head(3)"
   ]
  },
  {
   "cell_type": "markdown",
   "metadata": {},
   "source": [
    "## Kings clear\n",
    "It is necessery to get year of beginning and end of rule times."
   ]
  },
  {
   "cell_type": "code",
   "execution_count": 15,
   "metadata": {},
   "outputs": [],
   "source": [
    "def rule_information(string):\n",
    "    symbol_place = string.find(\"(\")\n",
    "    times_long = string[symbol_place:]\n",
    "    dash_place = times_long.find(\"-\")\n",
    "    rule_from = times_long[0:dash_place].replace(\"(\",\"\").strip()\n",
    "    if len(rule_from) == 0:\n",
    "        return 'Rule from unknown'\n",
    "    else: return ''"
   ]
  },
  {
   "cell_type": "code",
   "execution_count": 16,
   "metadata": {},
   "outputs": [],
   "source": [
    "def get_times(string, rule_type):\n",
    "    symbol_place = string.find(\"(\")\n",
    "    times_long = string[symbol_place:]\n",
    "    dash_place = times_long.find(\"-\")\n",
    "    #Calc rule from\n",
    "    rule_from = times_long[0:dash_place].replace(\"(\",\"\").strip()\n",
    "    #Calc rule to\n",
    "    rule_to = times_long[dash_place+1:].replace(\")\",\"\").strip()\n",
    "    if len(rule_to) > 4:\n",
    "            rule_to = rule_to[0:4]\n",
    "    \n",
    "    if rule_type == 0:\n",
    "        if len(rule_from) < 4:\n",
    "            rule_from = int(rule_to) - 30\n",
    "        return int(rule_from)\n",
    "    \n",
    "    elif rule_type == 1:\n",
    "        return int(rule_to)\n",
    "    \n",
    "    else: return \"ERROR\""
   ]
  },
  {
   "cell_type": "code",
   "execution_count": 17,
   "metadata": {},
   "outputs": [],
   "source": [
    "polishKings['kings_name'] = polishKings['king_info'].apply(get_name)\n",
    "polishKings['rule_info'] = polishKings['king_info'].apply(rule_information)\n",
    "polishKings['rule_from'] = polishKings['king_info'].apply(get_times, rule_type=0)\n",
    "polishKings['rule_to'] = polishKings['king_info'].apply(get_times, rule_type=1)"
   ]
  },
  {
   "cell_type": "code",
   "execution_count": 18,
   "metadata": {},
   "outputs": [
    {
     "data": {
      "text/html": [
       "<div>\n",
       "<style scoped>\n",
       "    .dataframe tbody tr th:only-of-type {\n",
       "        vertical-align: middle;\n",
       "    }\n",
       "\n",
       "    .dataframe tbody tr th {\n",
       "        vertical-align: top;\n",
       "    }\n",
       "\n",
       "    .dataframe thead th {\n",
       "        text-align: right;\n",
       "    }\n",
       "</style>\n",
       "<table border=\"1\" class=\"dataframe\">\n",
       "  <thead>\n",
       "    <tr style=\"text-align: right;\">\n",
       "      <th></th>\n",
       "      <th>times</th>\n",
       "      <th>king_info</th>\n",
       "      <th>times_name</th>\n",
       "      <th>times_from</th>\n",
       "      <th>times_to</th>\n",
       "      <th>kings_name</th>\n",
       "      <th>rule_info</th>\n",
       "      <th>rule_from</th>\n",
       "      <th>rule_to</th>\n",
       "    </tr>\n",
       "  </thead>\n",
       "  <tbody>\n",
       "    <tr>\n",
       "      <th>0</th>\n",
       "      <td>Początki państwa (do 1138 roku)</td>\n",
       "      <td>Mieszko I (-992)</td>\n",
       "      <td>Początki państwa</td>\n",
       "      <td>0</td>\n",
       "      <td>1138</td>\n",
       "      <td>Mieszko I</td>\n",
       "      <td>Rule from unknown</td>\n",
       "      <td>962</td>\n",
       "      <td>992</td>\n",
       "    </tr>\n",
       "    <tr>\n",
       "      <th>1</th>\n",
       "      <td>Początki państwa (do 1138 roku)</td>\n",
       "      <td>Bolesław Chrobry (967-1025)</td>\n",
       "      <td>Początki państwa</td>\n",
       "      <td>0</td>\n",
       "      <td>1138</td>\n",
       "      <td>Bolesław Chrobry</td>\n",
       "      <td></td>\n",
       "      <td>995</td>\n",
       "      <td>1025</td>\n",
       "    </tr>\n",
       "    <tr>\n",
       "      <th>2</th>\n",
       "      <td>Początki państwa (do 1138 roku)</td>\n",
       "      <td>Mieszko II Lambert (990-1034)</td>\n",
       "      <td>Początki państwa</td>\n",
       "      <td>0</td>\n",
       "      <td>1138</td>\n",
       "      <td>Mieszko II Lambert</td>\n",
       "      <td></td>\n",
       "      <td>1004</td>\n",
       "      <td>1034</td>\n",
       "    </tr>\n",
       "  </tbody>\n",
       "</table>\n",
       "</div>"
      ],
      "text/plain": [
       "                             times                      king_info  \\\n",
       "0  Początki państwa (do 1138 roku)               Mieszko I (-992)   \n",
       "1  Początki państwa (do 1138 roku)    Bolesław Chrobry (967-1025)   \n",
       "2  Początki państwa (do 1138 roku)  Mieszko II Lambert (990-1034)   \n",
       "\n",
       "         times_name  times_from  times_to          kings_name  \\\n",
       "0  Początki państwa           0      1138           Mieszko I   \n",
       "1  Początki państwa           0      1138    Bolesław Chrobry   \n",
       "2  Początki państwa           0      1138  Mieszko II Lambert   \n",
       "\n",
       "           rule_info  rule_from  rule_to  \n",
       "0  Rule from unknown        962      992  \n",
       "1                           995     1025  \n",
       "2                          1004     1034  "
      ]
     },
     "execution_count": 18,
     "metadata": {},
     "output_type": "execute_result"
    }
   ],
   "source": [
    "polishKings.head(3)"
   ]
  },
  {
   "cell_type": "markdown",
   "metadata": {},
   "source": [
    "#### Drop unnecessery raw column  "
   ]
  },
  {
   "cell_type": "code",
   "execution_count": 19,
   "metadata": {},
   "outputs": [],
   "source": [
    "polishKings.drop(columns=[\"times\",\"king_info\"], inplace=True)"
   ]
  },
  {
   "cell_type": "code",
   "execution_count": 20,
   "metadata": {},
   "outputs": [
    {
     "data": {
      "text/html": [
       "<div>\n",
       "<style scoped>\n",
       "    .dataframe tbody tr th:only-of-type {\n",
       "        vertical-align: middle;\n",
       "    }\n",
       "\n",
       "    .dataframe tbody tr th {\n",
       "        vertical-align: top;\n",
       "    }\n",
       "\n",
       "    .dataframe thead th {\n",
       "        text-align: right;\n",
       "    }\n",
       "</style>\n",
       "<table border=\"1\" class=\"dataframe\">\n",
       "  <thead>\n",
       "    <tr style=\"text-align: right;\">\n",
       "      <th></th>\n",
       "      <th>times_name</th>\n",
       "      <th>times_from</th>\n",
       "      <th>times_to</th>\n",
       "      <th>kings_name</th>\n",
       "      <th>rule_info</th>\n",
       "      <th>rule_from</th>\n",
       "      <th>rule_to</th>\n",
       "    </tr>\n",
       "  </thead>\n",
       "  <tbody>\n",
       "    <tr>\n",
       "      <th>0</th>\n",
       "      <td>Początki państwa</td>\n",
       "      <td>0</td>\n",
       "      <td>1138</td>\n",
       "      <td>Mieszko I</td>\n",
       "      <td>Rule from unknown</td>\n",
       "      <td>962</td>\n",
       "      <td>992</td>\n",
       "    </tr>\n",
       "    <tr>\n",
       "      <th>1</th>\n",
       "      <td>Początki państwa</td>\n",
       "      <td>0</td>\n",
       "      <td>1138</td>\n",
       "      <td>Bolesław Chrobry</td>\n",
       "      <td></td>\n",
       "      <td>995</td>\n",
       "      <td>1025</td>\n",
       "    </tr>\n",
       "    <tr>\n",
       "      <th>2</th>\n",
       "      <td>Początki państwa</td>\n",
       "      <td>0</td>\n",
       "      <td>1138</td>\n",
       "      <td>Mieszko II Lambert</td>\n",
       "      <td></td>\n",
       "      <td>1004</td>\n",
       "      <td>1034</td>\n",
       "    </tr>\n",
       "    <tr>\n",
       "      <th>3</th>\n",
       "      <td>Początki państwa</td>\n",
       "      <td>0</td>\n",
       "      <td>1138</td>\n",
       "      <td>Bezprym</td>\n",
       "      <td></td>\n",
       "      <td>1002</td>\n",
       "      <td>1032</td>\n",
       "    </tr>\n",
       "    <tr>\n",
       "      <th>4</th>\n",
       "      <td>Początki państwa</td>\n",
       "      <td>0</td>\n",
       "      <td>1138</td>\n",
       "      <td>Kazimierz Odnowiciel</td>\n",
       "      <td></td>\n",
       "      <td>1016</td>\n",
       "      <td>1058</td>\n",
       "    </tr>\n",
       "  </tbody>\n",
       "</table>\n",
       "</div>"
      ],
      "text/plain": [
       "         times_name  times_from  times_to            kings_name  \\\n",
       "0  Początki państwa           0      1138             Mieszko I   \n",
       "1  Początki państwa           0      1138      Bolesław Chrobry   \n",
       "2  Początki państwa           0      1138    Mieszko II Lambert   \n",
       "3  Początki państwa           0      1138               Bezprym   \n",
       "4  Początki państwa           0      1138  Kazimierz Odnowiciel   \n",
       "\n",
       "           rule_info  rule_from  rule_to  \n",
       "0  Rule from unknown        962      992  \n",
       "1                           995     1025  \n",
       "2                          1004     1034  \n",
       "3                          1002     1032  \n",
       "4                          1016     1058  "
      ]
     },
     "execution_count": 20,
     "metadata": {},
     "output_type": "execute_result"
    }
   ],
   "source": [
    "polishKings.head()"
   ]
  },
  {
   "cell_type": "code",
   "execution_count": 21,
   "metadata": {},
   "outputs": [],
   "source": [
    "polishKings.to_csv(\"PolishKings.csv\", index=False)"
   ]
  },
  {
   "cell_type": "code",
   "execution_count": 22,
   "metadata": {},
   "outputs": [
    {
     "name": "stdout",
     "output_type": "stream",
     "text": [
      "<class 'pandas.core.frame.DataFrame'>\n",
      "RangeIndex: 33 entries, 0 to 32\n",
      "Data columns (total 7 columns):\n",
      "times_name    33 non-null object\n",
      "times_from    33 non-null int64\n",
      "times_to      33 non-null int64\n",
      "kings_name    33 non-null object\n",
      "rule_info     33 non-null object\n",
      "rule_from     33 non-null int64\n",
      "rule_to       33 non-null int64\n",
      "dtypes: int64(4), object(3)\n",
      "memory usage: 1.9+ KB\n"
     ]
    }
   ],
   "source": [
    "polishKings.info()"
   ]
  },
  {
   "cell_type": "code",
   "execution_count": null,
   "metadata": {},
   "outputs": [],
   "source": []
  }
 ],
 "metadata": {
  "kernelspec": {
   "display_name": "Python 3",
   "language": "python",
   "name": "python3"
  },
  "language_info": {
   "codemirror_mode": {
    "name": "ipython",
    "version": 3
   },
   "file_extension": ".py",
   "mimetype": "text/x-python",
   "name": "python",
   "nbconvert_exporter": "python",
   "pygments_lexer": "ipython3",
   "version": "3.6.8"
  }
 },
 "nbformat": 4,
 "nbformat_minor": 2
}
